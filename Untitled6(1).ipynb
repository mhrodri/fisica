{
 "cells": [
  {
   "cell_type": "code",
   "execution_count": 1,
   "metadata": {},
   "outputs": [
    {
     "name": "stdout",
     "output_type": "stream",
     "text": [
      "Using matplotlib backend: Qt5Agg\n"
     ]
    }
   ],
   "source": [
    "import numpy as np\n",
    "import matplotlib.pyplot as plt\n",
    "%matplotlib"
   ]
  },
  {
   "cell_type": "markdown",
   "metadata": {},
   "source": [
    "[dist] = cm, [a] = mV. Los indices 1 viejos, los indices 2 nuevos"
   ]
  },
  {
   "cell_type": "code",
   "execution_count": 44,
   "metadata": {
    "collapsed": true
   },
   "outputs": [],
   "source": [
    "dist_1 = np.array([41.5, 39, 35, 30, 29.4, 26.5, 25.3, 23.1, 21.5, 20.6, 19.1, 18.7, 18.1, 17.9, 17.4, 17, 15.6, 14.8, 14.4, 14.1, 13.9, 13.6, 13.4, 12.6, 10.3, 9.2, 9.1, 8.9, 8.7, 8.3, 8.1, 7.9, 7.6])\n",
    "a_1 = np.array([88, 82, 76, 102, 128, 142, 150, 152, 160, 144, 164, 178, 190, 194, 200, 212, 220, 232, 246, 200, 250, 202, 256, 232, 274, 318, 354, 274, 370, 382, 274, 396, 280])"
   ]
  },
  {
   "cell_type": "code",
   "execution_count": 45,
   "metadata": {},
   "outputs": [
    {
     "data": {
      "text/plain": [
       "<function matplotlib.pyplot.show>"
      ]
     },
     "execution_count": 45,
     "metadata": {},
     "output_type": "execute_result"
    }
   ],
   "source": [
    "plt.plot(dist, a, '.-')\n",
    "#plt.loglog(dist, a)\n",
    "plt.show"
   ]
  },
  {
   "cell_type": "code",
   "execution_count": 40,
   "metadata": {
    "collapsed": true
   },
   "outputs": [],
   "source": [
    "dist_2 = np.array([22.1, 21.4, 21.2, 19.9, 19.5, 19.3, 19, 18.2, 17.7, 17.4, 17, 16.9, 16.5, 16, 15.3, 14.9, 14.5, 14, 13.2, 12.7, 12.6, 12.3, 12, 10.6])\n",
    "a_2 = np.array([68, 70, 77.8, 80.8, 82.2, 84, 86.7, 90.4, 93.3, 93.4, 96.4, 98.2, 101, 101, 108, 110, 112, 120, 122, 128, 130, 136, 140, 152])"
   ]
  },
  {
   "cell_type": "code",
   "execution_count": 46,
   "metadata": {},
   "outputs": [
    {
     "data": {
      "text/plain": [
       "<function matplotlib.pyplot.show>"
      ]
     },
     "execution_count": 46,
     "metadata": {},
     "output_type": "execute_result"
    }
   ],
   "source": [
    "plt.plot(dist_2, a_2, '.-')\n",
    "plt.show"
   ]
  },
  {
   "cell_type": "markdown",
   "metadata": {},
   "source": [
    "Para ver linealidad [volt_en]=V, [volt_sal]=mV"
   ]
  },
  {
   "cell_type": "code",
   "execution_count": 36,
   "metadata": {
    "collapsed": true
   },
   "outputs": [],
   "source": [
    "volt_en =np.array([1, 2.8, 4, 6, 8, 10, 11, 12, 13])\n",
    "volt_sal = np.array([24, 40, 54, 84, 110, 130, 140, 152, 162])"
   ]
  },
  {
   "cell_type": "code",
   "execution_count": 37,
   "metadata": {},
   "outputs": [
    {
     "data": {
      "text/plain": [
       "[<matplotlib.lines.Line2D at 0xc490198>]"
      ]
     },
     "execution_count": 37,
     "metadata": {},
     "output_type": "execute_result"
    }
   ],
   "source": [
    "plt.plot(volt_en, volt_sal, '.-')"
   ]
  },
  {
   "cell_type": "markdown",
   "metadata": {},
   "source": [
    "[Frec]= kHz, [A]= mV"
   ]
  },
  {
   "cell_type": "code",
   "execution_count": 34,
   "metadata": {
    "collapsed": true
   },
   "outputs": [],
   "source": [
    "f = np.array([34.6, 35.59, 36.5, 37.6, 38.5, 38.61, 39.6, 40, 40.65, 41.5, 41.84, 42.92, 43.67, 44.05, 44.6, 46.3, 46.7, 50])\n",
    "A = np.array([1.2, 1.6, 4.2, 8, 17.5, 19.9, 97.1, 20.2, 20.2, 20.2, 20.2, 14.4, 8, 6.8, 4.72, 4, 1.92, 3.6])"
   ]
  },
  {
   "cell_type": "code",
   "execution_count": 35,
   "metadata": {},
   "outputs": [
    {
     "data": {
      "text/plain": [
       "<function matplotlib.pyplot.show>"
      ]
     },
     "execution_count": 35,
     "metadata": {},
     "output_type": "execute_result"
    }
   ],
   "source": [
    "plt.plot(f, A, '.-')\n",
    "plt.show"
   ]
  },
  {
   "cell_type": "code",
   "execution_count": null,
   "metadata": {
    "collapsed": true
   },
   "outputs": [],
   "source": []
  }
 ],
 "metadata": {
  "kernelspec": {
   "display_name": "Python 3",
   "language": "python",
   "name": "python3"
  },
  "language_info": {
   "codemirror_mode": {
    "name": "ipython",
    "version": 3
   },
   "file_extension": ".py",
   "mimetype": "text/x-python",
   "name": "python",
   "nbconvert_exporter": "python",
   "pygments_lexer": "ipython3",
   "version": "3.6.1"
  }
 },
 "nbformat": 4,
 "nbformat_minor": 2
}
